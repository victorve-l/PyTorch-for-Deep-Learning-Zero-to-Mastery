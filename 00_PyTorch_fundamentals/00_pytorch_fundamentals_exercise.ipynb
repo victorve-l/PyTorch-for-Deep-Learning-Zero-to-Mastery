{
  "nbformat": 4,
  "nbformat_minor": 0,
  "metadata": {
    "colab": {
      "provenance": [],
      "gpuType": "T4"
    },
    "kernelspec": {
      "name": "python3",
      "display_name": "Python 3"
    },
    "language_info": {
      "name": "python"
    },
    "accelerator": "GPU"
  },
  "cells": [
    {
      "cell_type": "code",
      "execution_count": 2,
      "metadata": {
        "id": "xPAuHFBDvipM"
      },
      "outputs": [],
      "source": [
        "import torch\n",
        "import numpy as np"
      ]
    },
    {
      "cell_type": "markdown",
      "source": [
        "## 1.  Documentation reading\n",
        "\n",
        "A big part of deep learning (and learning to code in general) is getting familiar with the documentation of a certain framework you're using. We'll be using the PyTorch documentation a lot throughout the rest of this course. So I'd recommend spending 10-minutes reading the following (it's okay if you don't get some things for now, the focus is not yet full understanding, it's awareness):\n",
        "\n",
        "\n",
        "* See the documentation on `torch.Tensor`\n",
        "\n",
        "* See the documentation on `torch.cuda`"
      ],
      "metadata": {
        "id": "EeSUSkSYyZz3"
      }
    },
    {
      "cell_type": "markdown",
      "source": [
        "## 2. Create a random tensor with shape (7, 7)"
      ],
      "metadata": {
        "id": "qIlO4QE3ynyf"
      }
    },
    {
      "cell_type": "code",
      "source": [
        "ran_tensor = torch.rand(7,7)\n",
        "ran_tensor, ran_tensor.shape"
      ],
      "metadata": {
        "colab": {
          "base_uri": "https://localhost:8080/"
        },
        "id": "WGwrMmjMykGU",
        "outputId": "c28e9bf2-fb25-43e8-a648-4b4d504e851c"
      },
      "execution_count": 4,
      "outputs": [
        {
          "output_type": "execute_result",
          "data": {
            "text/plain": [
              "(tensor([[0.2981, 0.2419, 0.3006, 0.4658, 0.5118, 0.9624, 0.0333],\n",
              "         [0.0330, 0.4224, 0.5189, 0.7356, 0.5381, 0.6921, 0.4628],\n",
              "         [0.7215, 0.8018, 0.1373, 0.8347, 0.2964, 0.9185, 0.2824],\n",
              "         [0.4526, 0.5875, 0.9398, 0.6742, 0.3791, 0.4473, 0.3314],\n",
              "         [0.9226, 0.1968, 0.3355, 0.0170, 0.6962, 0.3456, 0.0419],\n",
              "         [0.3795, 0.1322, 0.5951, 0.4133, 0.9203, 0.7678, 0.9571],\n",
              "         [0.2072, 0.8388, 0.7778, 0.9810, 0.1635, 0.5066, 0.7898]]),\n",
              " torch.Size([7, 7]))"
            ]
          },
          "metadata": {},
          "execution_count": 4
        }
      ]
    },
    {
      "cell_type": "code",
      "source": [],
      "metadata": {
        "id": "Vid0Q1tQyuRS"
      },
      "execution_count": null,
      "outputs": []
    },
    {
      "cell_type": "markdown",
      "source": [
        "## 3. Perform a matrix multiplication on the tensor from 2 with another random tensor with shape (1, 7) (hint: you may have to transpose the second tensor)."
      ],
      "metadata": {
        "id": "vBrarCrEyxHC"
      }
    },
    {
      "cell_type": "code",
      "source": [
        "ran_tensorA = torch.rand(7,7)\n",
        "ran_tensorB = torch.rand(1,7).T\n",
        "print(ran_tensorA)\n",
        "print(ran_tensorB)\n",
        "print(ran_tensorA.shape, ran_tensorB.shape)"
      ],
      "metadata": {
        "colab": {
          "base_uri": "https://localhost:8080/"
        },
        "id": "TsaXN8M4yyUH",
        "outputId": "d592c142-866d-4989-fbdc-c30abc528dd0"
      },
      "execution_count": 5,
      "outputs": [
        {
          "output_type": "stream",
          "name": "stdout",
          "text": [
            "tensor([[0.6304, 0.9553, 0.7191, 0.4545, 0.5826, 0.1485, 0.0223],\n",
            "        [0.6729, 0.8130, 0.7943, 0.2747, 0.5244, 0.3534, 0.6756],\n",
            "        [0.1795, 0.3559, 0.3411, 0.4103, 0.6086, 0.5703, 0.8986],\n",
            "        [0.9309, 0.2027, 0.4362, 0.6522, 0.6761, 0.1278, 0.9282],\n",
            "        [0.0586, 0.0289, 0.0847, 0.0222, 0.1789, 0.8973, 0.7566],\n",
            "        [0.8166, 0.9615, 0.6791, 0.8991, 0.7632, 0.6940, 0.9013],\n",
            "        [0.0848, 0.7251, 0.5044, 0.3086, 0.8016, 0.6541, 0.5445]])\n",
            "tensor([[0.2720],\n",
            "        [0.8312],\n",
            "        [0.4195],\n",
            "        [0.0264],\n",
            "        [0.7774],\n",
            "        [0.1020],\n",
            "        [0.2588]])\n",
            "torch.Size([7, 7]) torch.Size([7, 1])\n"
          ]
        }
      ]
    },
    {
      "cell_type": "markdown",
      "source": [
        "What would be the result size? A tensor with shape 7 rows (1st matrix) and 1 column (2nd matrix)."
      ],
      "metadata": {
        "id": "8wlC0y77y420"
      }
    },
    {
      "cell_type": "code",
      "source": [
        "torch.matmul(ran_tensorA, ran_tensorB)"
      ],
      "metadata": {
        "colab": {
          "base_uri": "https://localhost:8080/"
        },
        "id": "aLjsprMwy1CT",
        "outputId": "3bd509d4-6760-4414-9382-64b4d6325a3e"
      },
      "execution_count": 6,
      "outputs": [
        {
          "output_type": "execute_result",
          "data": {
            "text/plain": [
              "tensor([[1.7530],\n",
              "        [1.8178],\n",
              "        [1.2624],\n",
              "        [1.4007],\n",
              "        [0.5025],\n",
              "        [2.2272],\n",
              "        [1.6763]])"
            ]
          },
          "metadata": {},
          "execution_count": 6
        }
      ]
    },
    {
      "cell_type": "markdown",
      "source": [
        "## 4. Set the random seed to 0 and do exercises 2 & 3 over again.\n",
        "\n"
      ],
      "metadata": {
        "id": "VOrSL70Xy-aI"
      }
    },
    {
      "cell_type": "code",
      "source": [
        "# Set random seed\n",
        "RANDOM_SEED = 42\n",
        "\n",
        "# Apply random seed to tensor A\n",
        "torch.manual_seed(RANDOM_SEED)\n",
        "ran_tensorA = torch.rand(7,7)\n",
        "\n",
        "# Apply random seed to tensor B\n",
        "torch.manual_seed(RANDOM_SEED)\n",
        "ran_tensorB = torch.rand(1,7).T\n",
        "\n",
        "print(ran_tensorA)\n",
        "print(ran_tensorB)"
      ],
      "metadata": {
        "colab": {
          "base_uri": "https://localhost:8080/"
        },
        "id": "-zm5aOiIy951",
        "outputId": "0508be38-5d5b-4f38-f380-ea517284988b"
      },
      "execution_count": 7,
      "outputs": [
        {
          "output_type": "stream",
          "name": "stdout",
          "text": [
            "tensor([[0.8823, 0.9150, 0.3829, 0.9593, 0.3904, 0.6009, 0.2566],\n",
            "        [0.7936, 0.9408, 0.1332, 0.9346, 0.5936, 0.8694, 0.5677],\n",
            "        [0.7411, 0.4294, 0.8854, 0.5739, 0.2666, 0.6274, 0.2696],\n",
            "        [0.4414, 0.2969, 0.8317, 0.1053, 0.2695, 0.3588, 0.1994],\n",
            "        [0.5472, 0.0062, 0.9516, 0.0753, 0.8860, 0.5832, 0.3376],\n",
            "        [0.8090, 0.5779, 0.9040, 0.5547, 0.3423, 0.6343, 0.3644],\n",
            "        [0.7104, 0.9464, 0.7890, 0.2814, 0.7886, 0.5895, 0.7539]])\n",
            "tensor([[0.8823],\n",
            "        [0.9150],\n",
            "        [0.3829],\n",
            "        [0.9593],\n",
            "        [0.3904],\n",
            "        [0.6009],\n",
            "        [0.2566]])\n"
          ]
        }
      ]
    },
    {
      "cell_type": "code",
      "source": [
        "# Perform matrix multiplication\n",
        "torch.matmul(ran_tensorA, ran_tensorB)"
      ],
      "metadata": {
        "colab": {
          "base_uri": "https://localhost:8080/"
        },
        "id": "vH4J-hTAzNrF",
        "outputId": "294869a2-4594-4802-f3af-55cad476acc2"
      },
      "execution_count": 8,
      "outputs": [
        {
          "output_type": "execute_result",
          "data": {
            "text/plain": [
              "tensor([[3.2618],\n",
              "        [3.4084],\n",
              "        [2.4866],\n",
              "        [1.4525],\n",
              "        [1.7079],\n",
              "        [2.7291],\n",
              "        [2.9204]])"
            ]
          },
          "metadata": {},
          "execution_count": 8
        }
      ]
    },
    {
      "cell_type": "code",
      "source": [],
      "metadata": {
        "id": "ID84w4ipzTQT"
      },
      "execution_count": null,
      "outputs": []
    },
    {
      "cell_type": "markdown",
      "source": [
        "## 5. Speaking of random seeds, we saw how to set it with ` torch.manual_seed() ` but is there a GPU equivalent? (hint: you'll need to look into the documentation for torch.cuda for this one). If there is, set the GPU random seed to 1234."
      ],
      "metadata": {
        "id": "COGTjIXc1bqW"
      }
    },
    {
      "cell_type": "code",
      "source": [
        "# Set the random seed\n",
        "RANDOM_SEED = 1234\n",
        "\n",
        "# At this point, I changed to Google Colab GPU T4\n",
        "print(torch.cuda.is_available())\n",
        "\n",
        "# Setup device agnostic code\n",
        "device = 'cuda' if torch.cuda.is_available()else 'cpu'\n",
        "\n",
        "# Move tensor to GPU (if available)\n",
        "tensor = tensor.to(device)\n",
        "\n",
        "# Apply random seed\n",
        "torch.manual_seed(RANDOM_SEED)"
      ],
      "metadata": {
        "colab": {
          "base_uri": "https://localhost:8080/"
        },
        "id": "bgtnOw3X1b64",
        "outputId": "b1373bc3-fa5c-4674-8631-3fc297986395"
      },
      "execution_count": 24,
      "outputs": [
        {
          "output_type": "stream",
          "name": "stdout",
          "text": [
            "True\n"
          ]
        },
        {
          "output_type": "execute_result",
          "data": {
            "text/plain": [
              "<torch._C.Generator at 0x7f7138716110>"
            ]
          },
          "metadata": {},
          "execution_count": 24
        }
      ]
    },
    {
      "cell_type": "markdown",
      "source": [
        "## 6. Create two random tensors of shape `(2, 3)`and send them both to the GPU (you'll need access to a GPU for this). Set torch.manual_seed(1234) when creating the tensors (this doesn't have to be the GPU random seed)"
      ],
      "metadata": {
        "id": "Rq_OOT7C6-Kl"
      }
    },
    {
      "cell_type": "code",
      "source": [
        "# Set the random seed\n",
        "RANDOM_SEED = 1234\n",
        "\n",
        "# Apply random seed to tensor A\n",
        "torch.manual_seed(RANDOM_SEED)\n",
        "\n",
        "# Send tensor A to GPU\n",
        "tensorA = torch.rand(2,3).to(device)\n",
        "\n",
        "# Apply random seed to tensor A\n",
        "torch.manual_seed(RANDOM_SEED)\n",
        "\n",
        "# Send tensor A to GPU\n",
        "tensorB = torch.rand(2,3).to(device)\n",
        "\n",
        "tensorA,tensorB"
      ],
      "metadata": {
        "colab": {
          "base_uri": "https://localhost:8080/"
        },
        "id": "W-6x6GpH4W8g",
        "outputId": "6076e7b3-5006-47c1-ffee-f3b2d364df30"
      },
      "execution_count": 32,
      "outputs": [
        {
          "output_type": "execute_result",
          "data": {
            "text/plain": [
              "(tensor([[0.0290, 0.4019, 0.2598],\n",
              "         [0.3666, 0.0583, 0.7006]], device='cuda:0'),\n",
              " tensor([[0.0290, 0.4019, 0.2598],\n",
              "         [0.3666, 0.0583, 0.7006]], device='cuda:0'))"
            ]
          },
          "metadata": {},
          "execution_count": 32
        }
      ]
    },
    {
      "cell_type": "markdown",
      "source": [
        "## 7. Perform a matrix multiplication on the tensors you created in 6 (again, you may have to adjust the shapes of one of the tensors)."
      ],
      "metadata": {
        "id": "AEKcn58M8Bv7"
      }
    },
    {
      "cell_type": "code",
      "source": [
        "print(tensorA.shape, tensorB.shape)"
      ],
      "metadata": {
        "colab": {
          "base_uri": "https://localhost:8080/"
        },
        "id": "601VOva97n7w",
        "outputId": "141b683b-ee37-4b81-87ce-021806f11948"
      },
      "execution_count": 35,
      "outputs": [
        {
          "output_type": "stream",
          "name": "stdout",
          "text": [
            "torch.Size([2, 3]) torch.Size([2, 3])\n"
          ]
        }
      ]
    },
    {
      "cell_type": "code",
      "source": [
        "tensorBT = tensorB.T\n",
        "print(tensorAT.shape, tensorB.shape)"
      ],
      "metadata": {
        "colab": {
          "base_uri": "https://localhost:8080/"
        },
        "id": "WXRs0j4I97gK",
        "outputId": "f3f68aa6-7c02-43d3-e374-13aadda57735"
      },
      "execution_count": 56,
      "outputs": [
        {
          "output_type": "stream",
          "name": "stdout",
          "text": [
            "torch.Size([3, 2]) torch.Size([2, 3])\n"
          ]
        }
      ]
    },
    {
      "cell_type": "code",
      "source": [
        "tensor_mult = torch.matmul(tensorA, tensorBT)\n",
        "tensor_mult"
      ],
      "metadata": {
        "colab": {
          "base_uri": "https://localhost:8080/"
        },
        "id": "jWlrxxjQ_9yL",
        "outputId": "4df47d4e-7d86-4da5-93c5-6c50d24bdb6b"
      },
      "execution_count": 57,
      "outputs": [
        {
          "output_type": "execute_result",
          "data": {
            "text/plain": [
              "tensor([[0.2299, 0.2161],\n",
              "        [0.2161, 0.6287]], device='cuda:0')"
            ]
          },
          "metadata": {},
          "execution_count": 57
        }
      ]
    },
    {
      "cell_type": "markdown",
      "source": [
        "## 8. Find the maximum and minimum values of the output of 7."
      ],
      "metadata": {
        "id": "cwXC6-Js-L75"
      }
    },
    {
      "cell_type": "code",
      "source": [
        "# Minimum value\n",
        "print(f'Minimum value: {tensor_mult.min()}')\n",
        "\n",
        "# Maximum value\n",
        "print(f'Maximum value: {tensor_mult.max()}')"
      ],
      "metadata": {
        "colab": {
          "base_uri": "https://localhost:8080/"
        },
        "id": "5FsDVWXJ-Rs_",
        "outputId": "eeb36a77-a82d-48c1-c877-099adefa6732"
      },
      "execution_count": 58,
      "outputs": [
        {
          "output_type": "stream",
          "name": "stdout",
          "text": [
            "Minimum value: 0.21611443161964417\n",
            "Maximum value: 0.628727912902832\n"
          ]
        }
      ]
    },
    {
      "cell_type": "markdown",
      "source": [
        "## 9.Find the maximum and minimum index values of the output of 7."
      ],
      "metadata": {
        "id": "85ojhT8H-uWM"
      }
    },
    {
      "cell_type": "code",
      "source": [
        "# Print tensor\n",
        "print(tensor_mult)\n",
        "\n",
        "# Minimum index value\n",
        "print(f'\\nMinimum index value: {tensor_mult.argmin()}\\n')\n",
        "\n",
        "# Maximum index value\n",
        "print(f'Maximum index value: {tensor_mult.argmax()}\\n')"
      ],
      "metadata": {
        "colab": {
          "base_uri": "https://localhost:8080/"
        },
        "id": "dLVDnb_h-f5-",
        "outputId": "3ca9b3d7-d676-4900-a295-224ce9beba81"
      },
      "execution_count": 59,
      "outputs": [
        {
          "output_type": "stream",
          "name": "stdout",
          "text": [
            "tensor([[0.2299, 0.2161],\n",
            "        [0.2161, 0.6287]], device='cuda:0')\n",
            "\n",
            "Minimum index value: 1\n",
            "\n",
            "Maximum index value: 3\n",
            "\n"
          ]
        }
      ]
    },
    {
      "cell_type": "markdown",
      "source": [
        "# 10. Make a random tensor with shape `(1, 1, 1, 10)` and then create a new tensor with all the 1 dimensions removed to be left with a tensor of shape (10). Set the seed to 7 when you create it and print out the first tensor and it's shape as well as the second tensor and it's shape."
      ],
      "metadata": {
        "id": "uEoH8_7CA3Dy"
      }
    },
    {
      "cell_type": "code",
      "source": [
        "# Create random seed\n",
        "torch.manual_seed(7)\n",
        "\n",
        "# Create a random tensor\n",
        "rand_tensor = torch.rand(1,1,1,10)\n",
        "print(rand_tensor, rand_tensor.shape)\n",
        "\n",
        "# Remove all the 1 dimensions\n",
        "removed_rand_tensor = rand_tensor.squeeze()\n",
        "print('\\n',removed_rand_tensor,removed_rand_tensor.shape)"
      ],
      "metadata": {
        "colab": {
          "base_uri": "https://localhost:8080/"
        },
        "id": "MJXwcP_VA5C5",
        "outputId": "d213a4f7-ab17-41f2-a64c-44c7f009941f"
      },
      "execution_count": 70,
      "outputs": [
        {
          "output_type": "stream",
          "name": "stdout",
          "text": [
            "tensor([[[[0.5349, 0.1988, 0.6592, 0.6569, 0.2328, 0.4251, 0.2071, 0.6297,\n",
            "           0.3653, 0.8513]]]]) torch.Size([1, 1, 1, 10])\n",
            "\n",
            " tensor([0.5349, 0.1988, 0.6592, 0.6569, 0.2328, 0.4251, 0.2071, 0.6297, 0.3653,\n",
            "        0.8513]) torch.Size([10])\n"
          ]
        }
      ]
    },
    {
      "cell_type": "code",
      "source": [],
      "metadata": {
        "id": "8kj-f29LBI5v"
      },
      "execution_count": 65,
      "outputs": []
    }
  ]
}